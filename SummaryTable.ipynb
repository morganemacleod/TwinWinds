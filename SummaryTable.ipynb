{
 "cells": [
  {
   "cell_type": "code",
   "execution_count": 1,
   "metadata": {
    "collapsed": true
   },
   "outputs": [],
   "source": [
    "import matplotlib.pyplot as plt\n",
    "import matplotlib.colors as colors\n",
    "import numpy as np\n",
    "from astropy.io import ascii\n",
    "from astropy.table import Table\n",
    "import seaborn as sns\n",
    "import athena_read as ar\n",
    "import BinWindUtils as bw\n",
    "reload(bw)\n",
    "\n",
    "%matplotlib inline\n",
    "\n",
    "# set some global options\n",
    "plt.rcParams['figure.figsize'] = (6,5)\n",
    "plt.rcParams['legend.frameon'] = False\n",
    "plt.rcParams['legend.fontsize'] = 14\n",
    "plt.rcParams['legend.borderpad'] = 0.2\n",
    "plt.rcParams['legend.labelspacing'] = 0.2\n",
    "plt.rcParams['legend.handletextpad'] = 0.2\n",
    "plt.rcParams['font.family'] = 'stixgeneral'\n",
    "plt.rcParams['mathtext.fontset'] = 'stix'\n",
    "plt.rcParams['font.size'] = 16\n",
    "\n",
    "\n",
    "\n",
    "root_dir = \"/Users/morganmacleod/DATA/athenaruns/binary-wind/\""
   ]
  },
  {
   "cell_type": "code",
   "execution_count": 2,
   "metadata": {
    "collapsed": false
   },
   "outputs": [],
   "source": [
    "dir_list =[\"gamma1/lam2.5/phi1.0/\",\n",
    "           \"gamma1/lam2.5/phi1.4/\",\n",
    "           \"gamma1/lam2.5/phi2.0/\",\n",
    "           \"gamma1/lam2.5/phi4.0/\",\n",
    "           \"gamma1/lam5.0/phi1.0/\",\n",
    "           \"gamma1/lam5.0/phi1.4/\",\n",
    "           \"gamma1/lam5.0/phi2.0/\",\n",
    "           \"gamma1/lam5.0/phi4.0/\",\n",
    "           \"gamma1/lam10/phi1.0/\",\n",
    "           \"gamma1/lam10/phi1.4/\",\n",
    "           \"gamma1/lam10/phi2.0/\",\n",
    "           \"gamma1/lam10/phi4.0/\"]\n",
    "\n",
    "gamma_list = np.array([1.01,1.01,1.01,1.01,1.01,1.01,1.01,1.01,1.01,1.01,1.01,1.01])\n",
    "lam_list = np.array([2.5,2.5,2.5,2.5,5.,5.,5.,5.,10.,10.,10.,10.])\n",
    "phi_list = np.array([1.0,np.sqrt(2),2.0,4.0,1.0,np.sqrt(2),2.0,4.0,1.0,np.sqrt(2),2.0,4.0])\n",
    "name_list = np.array(['A','B','C','D',\"E\",'F','G',\"H\",\"I\",\"J\",\"K\",\"L\"])\n",
    "\n",
    "st = Table()\n",
    "st['model'] = name_list\n",
    "st['dir'] = dir_list\n",
    "st['gamma'] = gamma_list\n",
    "st['lambda']= lam_list\n",
    "st['fphi']  = phi_list\n",
    "\n",
    "st['p_surf']  = 2*st['fphi']/(st['gamma']*st['lambda'])\n",
    "st['cs_surf'] = np.sqrt(2*st['fphi']/st['lambda'])\n",
    "st['EJ0'] = -2*st['fphi']\n",
    "st['BernRot0'] = st['EJ0'] + st['gamma']*st['p_surf']/(1.0*(st['gamma']-1))"
   ]
  },
  {
   "cell_type": "code",
   "execution_count": 3,
   "metadata": {
    "collapsed": false
   },
   "outputs": [
    {
     "name": "stdout",
     "output_type": "stream",
     "text": [
      "/Users/morganmacleod/DATA/athenaruns/binary-wind/gamma1/lam2.5/phi1.0/BINWIND.out1.00011.athdf\n",
      "('retrieving data with level =', 1, ' within in limit=', 12)\n",
      "('data has shape', (128, 128, 128))\n",
      "/Users/morganmacleod/DATA/athenaruns/binary-wind/gamma1/lam2.5/phi1.4/BINWIND.out1.00011.athdf\n",
      "('retrieving data with level =', 1, ' within in limit=', 12)\n",
      "('data has shape', (128, 128, 128))\n",
      "/Users/morganmacleod/DATA/athenaruns/binary-wind/gamma1/lam2.5/phi2.0/BINWIND.out1.00011.athdf\n",
      "('retrieving data with level =', 1, ' within in limit=', 12)\n",
      "('data has shape', (128, 128, 128))\n",
      "/Users/morganmacleod/DATA/athenaruns/binary-wind/gamma1/lam2.5/phi4.0/BINWIND.out1.00010.athdf\n",
      "('retrieving data with level =', 1, ' within in limit=', 12)\n",
      "('data has shape', (128, 128, 128))\n",
      "/Users/morganmacleod/DATA/athenaruns/binary-wind/gamma1/lam5.0/phi1.0/BINWIND.out1.00011.athdf\n",
      "('retrieving data with level =', 1, ' within in limit=', 12)\n",
      "('data has shape', (128, 128, 128))\n",
      "/Users/morganmacleod/DATA/athenaruns/binary-wind/gamma1/lam5.0/phi1.4/BINWIND.out1.00011.athdf\n",
      "('retrieving data with level =', 1, ' within in limit=', 12)\n",
      "('data has shape', (128, 128, 128))\n",
      "/Users/morganmacleod/DATA/athenaruns/binary-wind/gamma1/lam5.0/phi2.0/BINWIND.out1.00011.athdf\n",
      "('retrieving data with level =', 1, ' within in limit=', 12)\n",
      "('data has shape', (128, 128, 128))\n",
      "/Users/morganmacleod/DATA/athenaruns/binary-wind/gamma1/lam5.0/phi4.0/BINWIND.out1.00010.athdf\n",
      "('retrieving data with level =', 1, ' within in limit=', 12)\n",
      "('data has shape', (128, 128, 128))\n",
      "/Users/morganmacleod/DATA/athenaruns/binary-wind/gamma1/lam10/phi1.0/BINWIND.out1.00011.athdf\n",
      "('retrieving data with level =', 1, ' within in limit=', 12)\n",
      "('data has shape', (128, 128, 128))\n",
      "/Users/morganmacleod/DATA/athenaruns/binary-wind/gamma1/lam10/phi1.4/BINWIND.out1.00011.athdf\n",
      "('retrieving data with level =', 1, ' within in limit=', 12)\n",
      "('data has shape', (128, 128, 128))\n",
      "/Users/morganmacleod/DATA/athenaruns/binary-wind/gamma1/lam10/phi2.0/BINWIND.out1.00011.athdf\n",
      "('retrieving data with level =', 1, ' within in limit=', 12)\n",
      "('data has shape', (128, 128, 128))\n",
      "/Users/morganmacleod/DATA/athenaruns/binary-wind/gamma1/lam10/phi4.0/BINWIND.out1.00010.athdf\n",
      "('retrieving data with level =', 1, ' within in limit=', 12)\n",
      "('data has shape', (128, 128, 128))\n"
     ]
    }
   ],
   "source": [
    "myr = 5.0\n",
    "\n",
    "st['mdot'] = 0.0\n",
    "st['Ldot'] = 0.0\n",
    "st['Ldot_grav'] = 0.0\n",
    "st['gamma_wind'] = 0.0\n",
    "st['gamma_grav'] = 0.0\n",
    "st['gamma_loss'] = 0.0\n",
    "st['v10'] = 0.0\n",
    "\n",
    "for i,my_dir in enumerate(st['dir']):\n",
    "    if(st['fphi'][i]!=4.0):\n",
    "        fn = root_dir + my_dir + \"BINWIND.out1.00011.athdf\"\n",
    "    else:\n",
    "        fn = root_dir + my_dir + \"BINWIND.out1.00010.athdf\"\n",
    "    print(fn)\n",
    "    d = bw.read_data(fn,level=1,get_slice=False,lim=12)\n",
    "    vr10 = bw.get_vr10(d)\n",
    "    mdot,ldot,ldotg,gw,gg,gl = bw.get_mdot_gammas_sphere(d,st['fphi'][i],myr)\n",
    "    \n",
    "    st['mdot'][i]=mdot\n",
    "    st['Ldot'][i]=ldot\n",
    "    st['Ldot_grav'][i]=ldotg\n",
    "    st['gamma_wind'][i]=gw\n",
    "    st['gamma_grav'][i]=gg\n",
    "    st['gamma_loss'][i]=gl\n",
    "    st['v10'][i] = vr10\n",
    "    \n",
    "    "
   ]
  },
  {
   "cell_type": "code",
   "execution_count": 4,
   "metadata": {
    "collapsed": false
   },
   "outputs": [
    {
     "data": {
      "text/html": [
       "&lt;Table length=12&gt;\n",
       "<table id=\"table4498906896\" class=\"table-striped table-bordered table-condensed\">\n",
       "<thead><tr><th>model</th><th>dir</th><th>gamma</th><th>lambda</th><th>fphi</th><th>p_surf</th><th>cs_surf</th><th>EJ0</th><th>BernRot0</th><th>mdot</th><th>Ldot</th><th>Ldot_grav</th><th>gamma_wind</th><th>gamma_grav</th><th>gamma_loss</th><th>v10</th></tr></thead>\n",
       "<thead><tr><th>str1</th><th>str21</th><th>float64</th><th>float64</th><th>float64</th><th>float64</th><th>float64</th><th>float64</th><th>float64</th><th>float64</th><th>float64</th><th>float64</th><th>float64</th><th>float64</th><th>float64</th><th>float64</th></tr></thead>\n",
       "<tr><td>A</td><td>gamma1/lam2.5/phi1.0/</td><td>1.01</td><td>2.5</td><td>1.0</td><td>0.7920792079207921</td><td>0.8944271909999159</td><td>-2.0</td><td>77.99999999999993</td><td>-1.1727687350473202</td><td>-0.3849321409305386</td><td>0.03992332223120049</td><td>1.4490681767521594</td><td>-0.1361677576767584</td><td>1.312900419075401</td><td>2.8907986578342926</td></tr>\n",
       "<tr><td>B</td><td>gamma1/lam2.5/phi1.4/</td><td>1.01</td><td>2.5</td><td>1.4142135623730951</td><td>1.1201691583153228</td><td>1.0636591793889978</td><td>-2.8284271247461903</td><td>110.30865786510132</td><td>-0.5145227256380691</td><td>-0.13555220114506733</td><td>0.012427330164367504</td><td>1.1504217321085104</td><td>-0.09661248800201114</td><td>1.0538092441064992</td><td>3.642288417970296</td></tr>\n",
       "<tr><td>C</td><td>gamma1/lam2.5/phi2.0/</td><td>1.01</td><td>2.5</td><td>2.0</td><td>1.5841584158415842</td><td>1.2649110640673518</td><td>-4.0</td><td>155.99999999999986</td><td>-0.25650433865366484</td><td>-0.06558001654320014</td><td>0.004168930122648675</td><td>1.0876844739850526</td><td>-0.0650114558612221</td><td>1.0226730181238306</td><td>4.561901830036591</td></tr>\n",
       "<tr><td>D</td><td>gamma1/lam2.5/phi4.0/</td><td>1.01</td><td>2.5</td><td>4.0</td><td>3.1683168316831685</td><td>1.7888543819998317</td><td>-8.0</td><td>311.9999999999997</td><td>-0.07607713256373161</td><td>-0.020931327448654738</td><td>0.0002901079146885803</td><td>1.1157852378605686</td><td>-0.015253356950358246</td><td>1.1005318809102103</td><td>7.027416896337492</td></tr>\n",
       "<tr><td>E</td><td>gamma1/lam5.0/phi1.0/</td><td>1.01</td><td>5.0</td><td>1.0</td><td>0.39603960396039606</td><td>0.6324555320336759</td><td>-2.0</td><td>37.999999999999964</td><td>-0.5149128010355881</td><td>-0.21497807880958497</td><td>0.01282827156349784</td><td>1.769669349178507</td><td>-0.09965393392976622</td><td>1.6700154152487408</td><td>1.7568135248490133</td></tr>\n",
       "<tr><td>F</td><td>gamma1/lam5.0/phi1.4/</td><td>1.01</td><td>5.0</td><td>1.4142135623730951</td><td>0.5600845791576614</td><td>0.7521206186172787</td><td>-2.8284271247461903</td><td>53.74011537017756</td><td>-0.2102146475371875</td><td>-0.05335675841053038</td><td>0.013248631271792608</td><td>1.2673786620038516</td><td>-0.2520972049666309</td><td>1.0152814570372206</td><td>2.217148200192791</td></tr>\n",
       "<tr><td>G</td><td>gamma1/lam5.0/phi2.0/</td><td>1.01</td><td>5.0</td><td>2.0</td><td>0.7920792079207921</td><td>0.8944271909999159</td><td>-4.0</td><td>75.99999999999993</td><td>-0.10669184030640085</td><td>-0.020980900846913505</td><td>0.007560966695532755</td><td>1.0700674938394115</td><td>-0.2834693515012561</td><td>0.7865981423381553</td><td>2.8188152461484</td></tr>\n",
       "<tr><td>H</td><td>gamma1/lam5.0/phi4.0/</td><td>1.01</td><td>5.0</td><td>4.0</td><td>1.5841584158415842</td><td>1.2649110640673518</td><td>-8.0</td><td>151.99999999999986</td><td>-0.027803400734465154</td><td>-0.006644664065182209</td><td>0.00033944023054479516</td><td>1.0047841790906527</td><td>-0.048834347105463874</td><td>0.9559498319851887</td><td>4.493737917785449</td></tr>\n",
       "<tr><td>I</td><td>gamma1/lam10/phi1.0/</td><td>1.01</td><td>10.0</td><td>1.0</td><td>0.19801980198019803</td><td>0.4472135954999579</td><td>-2.0</td><td>17.999999999999982</td><td>-0.07465187760489253</td><td>-0.06408525921286919</td><td>-0.01694747261818271</td><td>2.525738835085759</td><td>0.9080801802671342</td><td>3.433819015352893</td><td>1.150066699688261</td></tr>\n",
       "<tr><td>J</td><td>gamma1/lam10/phi1.4/</td><td>1.01</td><td>10.0</td><td>1.4142135623730951</td><td>0.2800422895788307</td><td>0.5318295896944989</td><td>-2.8284271247461903</td><td>25.455844122715686</td><td>-0.009715753437318791</td><td>-0.005999874956742339</td><td>-0.002747353279970485</td><td>1.3390713124846183</td><td>1.1310922195360522</td><td>2.4701635320206705</td><td>1.391029483369927</td></tr>\n",
       "<tr><td>K</td><td>gamma1/lam10/phi2.0/</td><td>1.01</td><td>10.0</td><td>2.0</td><td>0.39603960396039606</td><td>0.6324555320336759</td><td>-4.0</td><td>35.999999999999964</td><td>-0.0027592118012069837</td><td>-0.0011444424110806945</td><td>5.624014922932827e-05</td><td>1.7406167366851633</td><td>-0.08153074614239719</td><td>1.659085990542766</td><td>1.7115442522391564</td></tr>\n",
       "<tr><td>L</td><td>gamma1/lam10/phi4.0/</td><td>1.01</td><td>10.0</td><td>4.0</td><td>0.7920792079207921</td><td>0.8944271909999159</td><td>-8.0</td><td>71.99999999999993</td><td>-0.000786719465044335</td><td>-0.00013086338388201493</td><td>2.512829506384491e-05</td><td>0.7931247967129885</td><td>-0.12776241687335813</td><td>0.6653623798396304</td><td>2.7298756144645995</td></tr>\n",
       "</table>"
      ],
      "text/plain": [
       "<Table length=12>\n",
       "model          dir           gamma  ...     gamma_loss            v10        \n",
       " str1         str21         float64 ...      float64            float64      \n",
       "----- --------------------- ------- ... ------------------ ------------------\n",
       "    A gamma1/lam2.5/phi1.0/    1.01 ...  1.312900419075401 2.8907986578342926\n",
       "    B gamma1/lam2.5/phi1.4/    1.01 ... 1.0538092441064992  3.642288417970296\n",
       "    C gamma1/lam2.5/phi2.0/    1.01 ... 1.0226730181238306  4.561901830036591\n",
       "    D gamma1/lam2.5/phi4.0/    1.01 ... 1.1005318809102103  7.027416896337492\n",
       "    E gamma1/lam5.0/phi1.0/    1.01 ... 1.6700154152487408 1.7568135248490133\n",
       "    F gamma1/lam5.0/phi1.4/    1.01 ... 1.0152814570372206  2.217148200192791\n",
       "    G gamma1/lam5.0/phi2.0/    1.01 ... 0.7865981423381553    2.8188152461484\n",
       "    H gamma1/lam5.0/phi4.0/    1.01 ... 0.9559498319851887  4.493737917785449\n",
       "    I  gamma1/lam10/phi1.0/    1.01 ...  3.433819015352893  1.150066699688261\n",
       "    J  gamma1/lam10/phi1.4/    1.01 ... 2.4701635320206705  1.391029483369927\n",
       "    K  gamma1/lam10/phi2.0/    1.01 ...  1.659085990542766 1.7115442522391564\n",
       "    L  gamma1/lam10/phi4.0/    1.01 ... 0.6653623798396304 2.7298756144645995"
      ]
     },
     "execution_count": 4,
     "metadata": {},
     "output_type": "execute_result"
    }
   ],
   "source": [
    "st"
   ]
  },
  {
   "cell_type": "code",
   "execution_count": 5,
   "metadata": {
    "collapsed": false
   },
   "outputs": [
    {
     "name": "stderr",
     "output_type": "stream",
     "text": [
      "WARNING: AstropyDeprecationWarning: simtable_v_r5_p4.dat already exists. Automatically overwriting ASCII files is deprecated. Use the argument 'overwrite=True' in the future. [astropy.io.ascii.ui]\n"
     ]
    }
   ],
   "source": [
    "ascii.write(st,'simtable_v_r5_p4.dat')"
   ]
  },
  {
   "cell_type": "code",
   "execution_count": 6,
   "metadata": {
    "collapsed": false
   },
   "outputs": [
    {
     "name": "stdout",
     "output_type": "stream",
     "text": [
      "\\begin{table}\n",
      "\\begin{tabular}{ccccccccccccccc}\n",
      "model & gamma & lambda & fphi & p_surf & cs_surf & EJ0 & BernRot0 & mdot & Ldot & Ldot_grav & gamma_loss & gamma_wind & gamma_grav & v10 \\\\\n",
      "A & 1.01 & 2.5 & 1.00 & 0.79 & 0.89 & -2.00 & 78.00 & -1.17e+00 & -3.85e-01 & 3.99e-02 & 1.31 & 1.45 & -0.14 & 2.89 \\\\\n",
      "B & 1.01 & 2.5 & 1.41 & 1.12 & 1.06 & -2.83 & 110.31 & -5.15e-01 & -1.36e-01 & 1.24e-02 & 1.05 & 1.15 & -0.10 & 3.64 \\\\\n",
      "C & 1.01 & 2.5 & 2.00 & 1.58 & 1.26 & -4.00 & 156.00 & -2.57e-01 & -6.56e-02 & 4.17e-03 & 1.02 & 1.09 & -0.07 & 4.56 \\\\\n",
      "D & 1.01 & 2.5 & 4.00 & 3.17 & 1.79 & -8.00 & 312.00 & -7.61e-02 & -2.09e-02 & 2.90e-04 & 1.10 & 1.12 & -0.02 & 7.03 \\\\\n",
      "E & 1.01 & 5.0 & 1.00 & 0.40 & 0.63 & -2.00 & 38.00 & -5.15e-01 & -2.15e-01 & 1.28e-02 & 1.67 & 1.77 & -0.10 & 1.76 \\\\\n",
      "F & 1.01 & 5.0 & 1.41 & 0.56 & 0.75 & -2.83 & 53.74 & -2.10e-01 & -5.34e-02 & 1.32e-02 & 1.02 & 1.27 & -0.25 & 2.22 \\\\\n",
      "G & 1.01 & 5.0 & 2.00 & 0.79 & 0.89 & -4.00 & 76.00 & -1.07e-01 & -2.10e-02 & 7.56e-03 & 0.79 & 1.07 & -0.28 & 2.82 \\\\\n",
      "H & 1.01 & 5.0 & 4.00 & 1.58 & 1.26 & -8.00 & 152.00 & -2.78e-02 & -6.64e-03 & 3.39e-04 & 0.96 & 1.00 & -0.05 & 4.49 \\\\\n",
      "I & 1.01 & 10.0 & 1.00 & 0.20 & 0.45 & -2.00 & 18.00 & -7.47e-02 & -6.41e-02 & -1.69e-02 & 3.43 & 2.53 & 0.91 & 1.15 \\\\\n",
      "J & 1.01 & 10.0 & 1.41 & 0.28 & 0.53 & -2.83 & 25.46 & -9.72e-03 & -6.00e-03 & -2.75e-03 & 2.47 & 1.34 & 1.13 & 1.39 \\\\\n",
      "K & 1.01 & 10.0 & 2.00 & 0.40 & 0.63 & -4.00 & 36.00 & -2.76e-03 & -1.14e-03 & 5.62e-05 & 1.66 & 1.74 & -0.08 & 1.71 \\\\\n",
      "L & 1.01 & 10.0 & 4.00 & 0.79 & 0.89 & -8.00 & 72.00 & -7.87e-04 & -1.31e-04 & 2.51e-05 & 0.67 & 0.79 & -0.13 & 2.73 \\\\\n",
      "\\end{tabular}\n",
      "\\end{table}\n"
     ]
    }
   ],
   "source": [
    "st=ascii.read('simtable_v_r5_p4.dat')\n",
    "ascii.write(st[['model','gamma','lambda','fphi','p_surf','cs_surf','EJ0',\"BernRot0\",\"mdot\",\"Ldot\",\"Ldot_grav\",\"gamma_loss\",\"gamma_wind\",\"gamma_grav\",\"v10\"]],\n",
    "           format='latex',\n",
    "           formats={'gamma':'%0.2f','fphi':'%0.2f','p_surf':'%0.2f','cs_surf':'%0.2f','EJ0':'%0.2f','BernRot0':'%0.2f',\n",
    "                   \"mdot\":'%0.2e',\"Ldot\":'%0.2e',\"Ldot_grav\":'%0.2e',\"gamma_loss\":'%0.2f',\"gamma_wind\":'%0.2f',\"gamma_grav\":'%0.2f',\"v10\":'%0.2f'})"
   ]
  },
  {
   "cell_type": "code",
   "execution_count": null,
   "metadata": {
    "collapsed": true
   },
   "outputs": [],
   "source": []
  }
 ],
 "metadata": {
  "anaconda-cloud": {},
  "kernelspec": {
   "display_name": "Python [anaconda]",
   "language": "python",
   "name": "Python [anaconda]"
  },
  "language_info": {
   "codemirror_mode": {
    "name": "ipython",
    "version": 2
   },
   "file_extension": ".py",
   "mimetype": "text/x-python",
   "name": "python",
   "nbconvert_exporter": "python",
   "pygments_lexer": "ipython2",
   "version": "2.7.15"
  }
 },
 "nbformat": 4,
 "nbformat_minor": 0
}
